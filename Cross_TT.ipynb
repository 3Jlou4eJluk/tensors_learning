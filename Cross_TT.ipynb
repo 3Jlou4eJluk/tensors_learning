{
 "cells": [
  {
   "cell_type": "code",
   "execution_count": 9,
   "metadata": {},
   "outputs": [],
   "source": [
    "import numpy as np\n",
    "import einops"
   ]
  },
  {
   "cell_type": "code",
   "execution_count": 43,
   "metadata": {},
   "outputs": [],
   "source": [
    "\n",
    "def Cross(A, e, max_iters=1000):\n",
    "  m, n = A.shape\n",
    "  I = [i for i in range(m)]\n",
    "  J = [j for j in range(n)]\n",
    "\n",
    "  r = 0\n",
    "  #maximum element\n",
    "  i,j = np.unravel_index(np.argmax(np.abs(A), axis=None), A.shape)\n",
    "  #начальные U V\n",
    "  U = np.copy(A[i, :]).reshape(1, n)\n",
    "  V = np.copy(A[:, j] / A[i, j]).reshape(m, 1)\n",
    "  Err = A - V @ U\n",
    "  #drop row i and col j from I and J\n",
    "  I[i] = -1\n",
    "  J[j] = -1\n",
    "  i = 0\n",
    "  j = 0\n",
    "  iter = 0\n",
    "  while True:\n",
    "    iter += 1\n",
    "    r += 1\n",
    "    #find new max row and col\n",
    "    for k in range(n):\n",
    "      if (abs(Err[i,k]) > abs(Err[i,j])) and (J[k] != -1):\n",
    "          j = k\n",
    "    for k in range(n):\n",
    "      if (abs(Err[k,j]) > abs(Err[i,j])) and (I[k] != -1):\n",
    "          i = k\n",
    "    tmp = abs(Err[i][j]) *((m-r)*(n-r))**0.5\n",
    "    norm = np.linalg.norm(V @ U, ord='fro')\n",
    "    if (tmp <= e*norm):\n",
    "      r -= 1\n",
    "      I = [x for x in I if x != -1]\n",
    "      J = [x for x in J if x != -1]\n",
    "      return A[I, :], A[I, J], A[:, J]\n",
    "    elif iter > max_iters:\n",
    "      I = [x for x in I if x != -1]\n",
    "      J = [x for x in J if x != -1]\n",
    "      return A[I, :], A[I, J], A[:, J]\n",
    "\n",
    "    #обновляем U, V\n",
    "    U = np.concatenate((U, Err[i, :].reshape(1, n)), axis = 0)\n",
    "    V = np.concatenate((V, (Err[:, j] / Err[i,j]).reshape(m, 1)), axis = 1)\n",
    "    I[i] = -1\n",
    "    J[j] = -1\n",
    "    Err = A - V @ U"
   ]
  },
  {
   "cell_type": "code",
   "execution_count": 44,
   "metadata": {},
   "outputs": [],
   "source": [
    "def F_norm(tensor):\n",
    "    return np.sum(tensor ** 2)\n",
    "\n",
    "def truncatedSVD(A, delta):\n",
    "    u, s, v = np.linalg.svd(A)\n",
    "    rank = (np.abs(s) >= delta).sum()\n",
    "    return u[:, :rank], s[:rank], v[:rank, :]\n",
    "\n",
    "def numel(tensor):\n",
    "    return tensor.size"
   ]
  },
  {
   "cell_type": "code",
   "execution_count": 49,
   "metadata": {},
   "outputs": [],
   "source": [
    "\"\"\"\n",
    "    In development\n",
    "\"\"\"\n",
    "def TTCross(tensor, eps):\n",
    "\n",
    "    d = len(tensor.shape)\n",
    "    delta = eps / np.sqrt(d - 1) * F_norm(tensor)\n",
    "    Ctens = tensor.copy()\n",
    "    \n",
    "    rk = 1\n",
    "    r_prev = 1\n",
    "\n",
    "    G_list = []\n",
    "    for k in range(1, d):\n",
    "        Ctens = Ctens.reshape(\n",
    "            r_prev * tensor.shape[k - 1], \n",
    "            numel(Ctens) // (r_prev * tensor.shape[k - 1])\n",
    "        )\n",
    "        #u, s, v = truncatedSVD(Ctens, delta)\n",
    "        u, s, v = Cross(Ctens, delta, 100)\n",
    "        print(u.shape, s.shape, v.shape)\n",
    "        rk = s.shape[0]\n",
    "        if k > 1:\n",
    "            Gk = u.reshape(r_prev, tensor.shape[k - 1], rk)\n",
    "        else:\n",
    "            Gk = u.reshape(tensor.shape[k - 1], rk)\n",
    "        G_list.append(Gk)\n",
    "        r_prev = rk\n",
    "        Ctens =  s @ v\n",
    "    G_list.append(Ctens)\n",
    "    #G_list.append(Ctens.reshape(r_prev, Ctens.shape[1] // tensor.shape[-1], tensor.shape[-1]))\n",
    "    return G_list\n",
    "    "
   ]
  },
  {
   "cell_type": "code",
   "execution_count": 50,
   "metadata": {},
   "outputs": [
    {
     "name": "stdout",
     "output_type": "stream",
     "text": [
      "(56, 56, 3)\n"
     ]
    }
   ],
   "source": [
    "from PIL import Image\n",
    "import numpy as np\n",
    "\n",
    "# Загружаем jpg картинку при помощи PIL\n",
    "image = Image.open('amanita.jpg')\n",
    "\n",
    "# Переводим картинку в массив numpy\n",
    "image_array = np.array(image)\n",
    "image_array = einops.reduce(image_array[1:, 1:, :].astype('float'), \"(h 4) (w 4) c -> h w c\", 'mean')\n",
    "\"\"\"[1:, 1:]\n",
    "image_array = (image_array - image_array.min()) / (image_array.max() - image_array.min())\n",
    "image_array = einops.reduce(image_array, \"(h 4) (w 4) c -> h w c\", 'mean')\"\"\"\n",
    "\n",
    "# Проверяем размерность массива\n",
    "print(image_array.shape)"
   ]
  },
  {
   "cell_type": "code",
   "execution_count": 51,
   "metadata": {},
   "outputs": [],
   "source": [
    "import matplotlib.pyplot as plt"
   ]
  },
  {
   "cell_type": "code",
   "execution_count": null,
   "metadata": {},
   "outputs": [],
   "source": []
  }
 ],
 "metadata": {
  "kernelspec": {
   "display_name": "venv",
   "language": "python",
   "name": "python3"
  },
  "language_info": {
   "codemirror_mode": {
    "name": "ipython",
    "version": 3
   },
   "file_extension": ".py",
   "mimetype": "text/x-python",
   "name": "python",
   "nbconvert_exporter": "python",
   "pygments_lexer": "ipython3",
   "version": "3.11.8"
  }
 },
 "nbformat": 4,
 "nbformat_minor": 2
}
