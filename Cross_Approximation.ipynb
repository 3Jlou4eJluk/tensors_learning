{
 "cells": [
  {
   "cell_type": "code",
   "execution_count": 3,
   "id": "a72b095e",
   "metadata": {},
   "outputs": [],
   "source": [
    "import numpy as np"
   ]
  },
  {
   "cell_type": "code",
   "execution_count": 4,
   "id": "8fca6ab5-507b-4655-9071-c70f33a52d9a",
   "metadata": {},
   "outputs": [],
   "source": [
    "def cross(A, e):\n",
    "  m, n = A.shape\n",
    "  I = []\n",
    "  J = []\n",
    "  for i in range(m):\n",
    "    I.append(i)\n",
    "  for j in range(n):\n",
    "    J.append(j)\n",
    "  r = 0\n",
    "  #maximum element\n",
    "  i,j = np.unravel_index(np.argmax(np.abs(A), axis=None), A.shape)\n",
    "  #начальные U V\n",
    "  U = np.copy(A[i, :]).reshape(1, n)\n",
    "  V = np.copy(A[:, j] / A[i, j]).reshape(m, 1)\n",
    "  Err = A - V @ U\n",
    "  #drop row i and col j from I and J\n",
    "  I[i] = -1\n",
    "  J[j] = -1\n",
    "  i = 0\n",
    "  j = 0\n",
    "  while True:\n",
    "    r += 1\n",
    "    #find new max row and col\n",
    "    for k in range(n):\n",
    "      if (abs(Err[i,k]) > abs(Err[i,j])) and (J[k] != -1):\n",
    "          j = k\n",
    "    for k in range(n):\n",
    "      if (abs(Err[k,j]) > abs(Err[i,j])) and (I[k] != -1):\n",
    "          i = k\n",
    "    tmp = abs(Err[i][j]) *((m-r)*(n-r))**0.5\n",
    "    norm = np.linalg.norm(V @ U, ord='fro')\n",
    "    if (tmp <= e*norm):\n",
    "      r -= 1\n",
    "      return V, U\n",
    "    #обновляем U, V\n",
    "    U = np.concatenate((U, Err[i, :].reshape(1, n)), axis = 0)\n",
    "    V = np.concatenate((V, (Err[:, j] / Err[i,j]).reshape(m, 1)), axis = 1)\n",
    "    I[i] = -1\n",
    "    J[j] = -1\n",
    "    Err = A - V @ U\n",
    "\n"
   ]
  },
  {
   "cell_type": "code",
   "execution_count": 5,
   "id": "e780cb56",
   "metadata": {},
   "outputs": [
    {
     "name": "stdout",
     "output_type": "stream",
     "text": [
      "6.449623347914055e-13\n"
     ]
    }
   ],
   "source": [
    "n = 32\n",
    "m = 128\n",
    "A = np.zeros([m, n])\n",
    "for i in range(m):\n",
    "  for j in range(n):\n",
    "      A[i,j] = i*2 + j *0.5\n",
    "\n",
    "U, V = cross1(A, 0.01)\n",
    "print(np.linalg.norm((A - U @ V), ord = 'fro'))"
   ]
  },
  {
   "cell_type": "code",
   "execution_count": 6,
   "id": "95602849",
   "metadata": {},
   "outputs": [],
   "source": [
    "def maxvol(A, e=1.05, iter=10):\n",
    "    n, r = A.shape\n",
    "    if n <= r:\n",
    "        raise ValueError('Input matrix should be \"tall\"')\n",
    "\n",
    "    for _ in range(iter):\n",
    "        i = A.shape[1]\n",
    "        A_new = A[:i, :]\n",
    "        B = A @ np.linalg.inv(A_new)\n",
    "\n",
    "        ind = np.unravel_index(np.argmax(B), B.shape)\n",
    "\n",
    "        if np.round(np.abs(B[ind]), 10) > 1:\n",
    "            A[ind, :] = A[[ind[1], ind[0]], :]\n",
    "        elif np.round(np.abs(B[ind]), 10) == 1:\n",
    "            return A_new\n",
    "    return A_new"
   ]
  },
  {
   "cell_type": "code",
   "execution_count": 7,
   "id": "85527c7f",
   "metadata": {},
   "outputs": [
    {
     "data": {
      "text/plain": [
       "array([[ 1.        , -0.9899925 ,  0.96017029, -0.91113026],\n",
       "       [-0.41614684,  0.28366219, -0.14550003,  0.0044257 ],\n",
       "       [-0.65364362,  0.75390225, -0.83907153,  0.90744678],\n",
       "       [ 0.96017029, -0.91113026,  0.84385396, -0.75968791],\n",
       "       [-0.14550003,  0.0044257 ,  0.13673722, -0.27516334],\n",
       "       [-0.83907153,  0.90744678, -0.95765948,  0.98870462],\n",
       "       [ 0.84385396, -0.75968791,  0.66031671, -0.54772926],\n",
       "       [ 0.13673722, -0.27516334,  0.40808206, -0.53283302],\n",
       "       [-0.95765948,  0.98870462, -0.99996083,  0.99120281],\n",
       "       [ 0.66031671, -0.54772926,  0.42417901, -0.29213881]])"
      ]
     },
     "execution_count": 7,
     "metadata": {},
     "output_type": "execute_result"
    }
   ],
   "source": [
    "n = 10\n",
    "r = 4\n",
    "A = np.zeros([n, r])\n",
    "for i in range(n):\n",
    "  for j in range(r):\n",
    "    A[i,j]= np.cos(2*i + 3*j)\n",
    "A"
   ]
  },
  {
   "cell_type": "code",
   "execution_count": 8,
   "id": "0ff48a90",
   "metadata": {},
   "outputs": [],
   "source": [
    "I = maxvol(A)"
   ]
  },
  {
   "cell_type": "code",
   "execution_count": 9,
   "id": "4bc43d0c",
   "metadata": {},
   "outputs": [
    {
     "data": {
      "text/plain": [
       "array([[ 0.66031671, -0.54772926,  0.42417901, -0.29213881],\n",
       "       [-0.41614684,  0.28366219, -0.14550003,  0.0044257 ],\n",
       "       [ 1.        , -0.9899925 ,  0.96017029, -0.91113026],\n",
       "       [ 0.96017029, -0.91113026,  0.84385396, -0.75968791]])"
      ]
     },
     "execution_count": 9,
     "metadata": {},
     "output_type": "execute_result"
    }
   ],
   "source": [
    "I"
   ]
  },
  {
   "cell_type": "code",
   "execution_count": null,
   "id": "2cc882cb",
   "metadata": {},
   "outputs": [],
   "source": []
  }
 ],
 "metadata": {
  "kernelspec": {
   "display_name": "Python 3 (ipykernel)",
   "language": "python",
   "name": "python3"
  },
  "language_info": {
   "codemirror_mode": {
    "name": "ipython",
    "version": 3
   },
   "file_extension": ".py",
   "mimetype": "text/x-python",
   "name": "python",
   "nbconvert_exporter": "python",
   "pygments_lexer": "ipython3",
   "version": "3.11.8"
  }
 },
 "nbformat": 4,
 "nbformat_minor": 5
}
