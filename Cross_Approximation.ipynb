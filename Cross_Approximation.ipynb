{
 "cells": [
  {
   "cell_type": "code",
   "execution_count": 1,
   "id": "c17aa94d-b89f-44c2-9c41-b71307d709fb",
   "metadata": {},
   "outputs": [],
   "source": [
    "import numpy as np\n",
    "from numba import njit"
   ]
  },
  {
   "cell_type": "code",
   "execution_count": 2,
   "id": "b55b6f6d",
   "metadata": {},
   "outputs": [],
   "source": [
    "def orthogonal_complement(x, normalize=False, threshold=1e-15):\n",
    "    \"\"\"Compute orthogonal complement of a matrix\n",
    "\n",
    "    this works along axis zero, i.e. rank == column rank,\n",
    "    or number of rows > column rank\n",
    "    otherwise orthogonal complement is empty\n",
    "\n",
    "    TODO possibly: use normalize='top' or 'bottom'\n",
    "\n",
    "    \"\"\"\n",
    "    x = np.asarray(x)\n",
    "    r, c = x.shape\n",
    "    if r < c:\n",
    "        import warnings\n",
    "        warnings.warn('fewer rows than columns', UserWarning)\n",
    "\n",
    "    # we assume svd is ordered by decreasing singular value, o.w. need sort\n",
    "    s, v, d = np.linalg.svd(x)\n",
    "    rank = (v > threshold).sum()\n",
    "\n",
    "    oc = s[:, rank:]\n",
    "\n",
    "    if normalize:\n",
    "        k_oc = oc.shape[1]\n",
    "        oc = oc.dot(np.linalg.inv(oc[:k_oc, :]))\n",
    "    return oc"
   ]
  },
  {
   "cell_type": "code",
   "execution_count": 3,
   "id": "8e086427",
   "metadata": {},
   "outputs": [],
   "source": [
    "\n",
    "def pre_maxvol(matrix, rank):\n",
    "    res = np.int64(np.zeros(rank))\n",
    "    row_norms = np.linalg.norm(matrix, axis = 1) ** 2\n",
    "    \n",
    "    for k in range(rank):\n",
    "        maxj = np.argmax(row_norms)\n",
    "        res[k] = maxj\n",
    "        oc = orthogonal_complement(matrix[res[:k+1]].T)\n",
    "        row_norms = np.linalg.norm(matrix @ oc, axis = 1) ** 2\n",
    "        row_norms[res[:k+1]] = -1\n",
    "    return res"
   ]
  },
  {
   "cell_type": "code",
   "execution_count": 4,
   "id": "41171965",
   "metadata": {},
   "outputs": [],
   "source": [
    "@njit\n",
    "def search_start_columns(matrix, start_rows, threshold=1e-16):\n",
    "    mat = matrix[start_rows]\n",
    "    q, r = np.linalg.qr(mat)\n",
    "    rank = len(start_rows)\n",
    "    res = np.zeros(rank)\n",
    "    cur_i = 0\n",
    "    shift = 0\n",
    "    for i in range(r.shape[1]):\n",
    "        if np.sum(np.abs(r[:, i]) > threshold) > cur_i:\n",
    "            res[cur_i] = i\n",
    "            cur_i += 1\n",
    "    return res"
   ]
  },
  {
   "cell_type": "code",
   "execution_count": 5,
   "id": "27c2b994",
   "metadata": {},
   "outputs": [],
   "source": [
    "def maxvol_rows(matrix, start_rows, start_columns, eps=1e-3, max_iters=50):\n",
    "    current_rows = start_rows\n",
    "    current_columns = start_columns\n",
    "    # начниаем поиск в строках\n",
    "    inv_matrix = np.linalg.inv(matrix[current_rows, :][:, current_columns])\n",
    "    \n",
    "    swaps = 0\n",
    "    \n",
    "    for iter in range(max_iters):\n",
    "        # домножаем на обратную\n",
    "        search_matrix = inv_matrix @ matrix[current_rows, :]\n",
    "        \n",
    "        # ищем элемент по модулю больший единицы\n",
    "        max_index = np.unravel_index(np.argmax(np.abs(search_matrix)), (len(current_rows), matrix.shape[1]))\n",
    "    \n",
    "        if np.abs(search_matrix[max_index[0], max_index[1]]) <= 1 + eps:\n",
    "            # если попали сюда, значит, не нашли\n",
    "            break\n",
    "            \n",
    "        swaps+= 1\n",
    "        # обновляем столбец\n",
    "        \n",
    "        old_col = current_columns[max_index[0]]\n",
    "        current_columns[max_index[0]] = max_index[1]\n",
    "        \n",
    "        # применяем формулу Шермана-Моррисона для обновления обратной матрицы\n",
    "        u = matrix[current_rows, current_columns[max_index[0]]] - matrix[current_rows, old_col]\n",
    "        v = np.zeros(len(current_rows))\n",
    "        v[max_index[0]] = 1\n",
    "        \n",
    "        inv_matrix += inv_matrix - inv_matrix @ u[:, None] @ v[None, :] @ inv_matrix / \\\n",
    "                (1 + v[None, :] @ inv_matrix @ u[:, None])\n",
    "        \n",
    "    return (current_rows, current_columns, swaps)"
   ]
  },
  {
   "cell_type": "code",
   "execution_count": 6,
   "id": "8ef0c8f1",
   "metadata": {},
   "outputs": [],
   "source": [
    "def maxvol_columns(matrix, start_rows, start_columns, eps=1e-3, max_iters=50):\n",
    "    current_rows = start_rows\n",
    "    current_columns = start_columns\n",
    "    # начниаем поиск в строках\n",
    "    \n",
    "    inv_matrix = np.linalg.inv(matrix[current_rows, :][:, current_columns])\n",
    "    \n",
    "    swaps = 0\n",
    "    for iter in range(max_iters):\n",
    "        # домножаем на обратную\n",
    "        search_matrix = matrix[:, current_columns] @ inv_matrix\n",
    "        \n",
    "        # ищем элемент по модулю больший единицы\n",
    "        max_index = np.unravel_index(np.argmax(np.abs(search_matrix)), (matrix.shape[0], len(current_columns)))\n",
    "    \n",
    "        if np.abs(search_matrix[max_index[0], max_index[1]]) <= 1 + eps:\n",
    "            # если попали сюда, значит, не нашли\n",
    "            break\n",
    "        \n",
    "        swaps += 1\n",
    "        # обновляем столбец\n",
    "        old_row = current_rows[max_index[1]]\n",
    "        current_rows[max_index[1]] = max_index[0]\n",
    "        \n",
    "        # применяем формулу Шермана-Моррисона для обновления обратной матрицы\n",
    "        u = np.zeros(len(current_columns))\n",
    "        u[max_index[1]] = 1\n",
    "        v = matrix[current_rows[max_index[1]], current_columns] - matrix[old_row, current_columns]\n",
    "        \n",
    "        inv_matrix += inv_matrix - inv_matrix @ u[:, None] @ v[None, :] @ inv_matrix / \\\n",
    "                (1 + v[None, :] @ inv_matrix @ u[:, None])\n",
    "        \n",
    "    return (current_rows, current_columns, swaps)"
   ]
  },
  {
   "cell_type": "code",
   "execution_count": 7,
   "id": "67787136",
   "metadata": {},
   "outputs": [],
   "source": [
    "def maxvol(matrix, start_rows, start_columns, eps=1e-3, max_iters=50):\n",
    "    current_rows = start_rows\n",
    "    current_columns = start_columns\n",
    "    swaps = 1\n",
    "    while swaps: \n",
    "        current_rows, current_columns, swaps = maxvol_rows(matrix, current_rows, current_columns, eps, max_iters)\n",
    "        if not swaps:\n",
    "            break\n",
    "        current_rows, current_columns, swaps = maxvol_columns(matrix, current_rows, current_columns, eps, max_iters)\n",
    "    return current_rows, current_columns"
   ]
  },
  {
   "cell_type": "code",
   "execution_count": 8,
   "id": "dd608de4",
   "metadata": {},
   "outputs": [],
   "source": [
    "def search_max_volume_submatrix(matrix, rank, eps=1e-4, zero_threshold=1e-16, max_iters=50):\n",
    "    matrix = np.float64(matrix)\n",
    "    # ищем неплохое начальное приближение\n",
    "    start_rows = pre_maxvol(matrix, rank)\n",
    "\n",
    "    start_columns = np.int64(search_start_columns(matrix, start_rows, zero_threshold))\n",
    "\n",
    "    start_rows = np.sort(start_rows)\n",
    "    start_columns = np.sort(start_columns)\n",
    "    \n",
    "    # запускаем maxvol на начальных данных\n",
    "    return maxvol(matrix, start_rows, start_columns, eps, max_iters)"
   ]
  },
  {
   "cell_type": "code",
   "execution_count": 9,
   "id": "a02f2aa3",
   "metadata": {},
   "outputs": [],
   "source": [
    "A = np.array([[(i + j) ** (-1) for j in range(1, 1001)] for i in range(1, 1001)]).reshape((1000, 1000))"
   ]
  },
  {
   "cell_type": "code",
   "execution_count": 10,
   "id": "258ef7fb-7edf-45ab-aa9c-eb29bb5abc7c",
   "metadata": {},
   "outputs": [],
   "source": [
    "error = np.zeros(10)"
   ]
  },
  {
   "cell_type": "code",
   "execution_count": 11,
   "id": "6016c1f1",
   "metadata": {},
   "outputs": [],
   "source": [
    "for i in range(1, 11):\n",
    "    rows, cols = search_max_volume_submatrix(A, i)\n",
    "    cross_approx = A[:, cols] @ np.linalg.inv(A[rows, :][:, cols]) @ A[rows, :]\n",
    "    error[i - 1] = np.linalg.norm(A - cross_approx, ord=None)"
   ]
  },
  {
   "cell_type": "code",
   "execution_count": 12,
   "id": "5538d3b8-ea02-49b2-aa7a-86b635fa6b7a",
   "metadata": {},
   "outputs": [],
   "source": [
    "rank = np.array(range(1, 11))"
   ]
  },
  {
   "cell_type": "code",
   "execution_count": 16,
   "id": "7a06f9d7-e273-42ab-af1a-0fae5339a44c",
   "metadata": {},
   "outputs": [
    {
     "data": {
      "image/png": "[encoded data removed]",
      "text/plain": [
       "<Figure size 640x480 with 1 Axes>"
      ]
     },
     "metadata": {},
     "output_type": "display_data"
    }
   ],
   "source": [
    "import matplotlib.pyplot as plt\n",
    "\n",
    "plt.title(\"Dependence of the Frobenius norm on the rank for Hilbert matrix\")\n",
    "plt.plot(rank, error, label='cross approx')\n",
    "plt.xlabel('The rank by which we approximate the matrix')\n",
    "plt.ylabel('Frobenius norm of difference matrix')\n",
    "plt.yscale('log')\n",
    "plt.xticks(rank)\n",
    "plt.legend()\n",
    "plt.grid()\n",
    "plt.savefig('./dependence_plot')"
   ]
  },
  {
   "cell_type": "code",
   "execution_count": null,
   "id": "8fca6ab5-507b-4655-9071-c70f33a52d9a",
   "metadata": {},
   "outputs": [],
   "source": []
  }
 ],
 "metadata": {
  "kernelspec": {
   "display_name": "Python 3 (ipykernel)",
   "language": "python",
   "name": "python3"
  },
  "language_info": {
   "codemirror_mode": {
    "name": "ipython",
    "version": 3
   },
   "file_extension": ".py",
   "mimetype": "text/x-python",
   "name": "python",
   "nbconvert_exporter": "python",
   "pygments_lexer": "ipython3",
   "version": "3.10.8"
  }
 },
 "nbformat": 4,
 "nbformat_minor": 5
}
