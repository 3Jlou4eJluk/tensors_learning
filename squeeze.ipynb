{
 "cells": [
  {
   "cell_type": "code",
   "execution_count": 7,
   "metadata": {},
   "outputs": [],
   "source": [
    "import numpy as np"
   ]
  },
  {
   "cell_type": "code",
   "execution_count": 8,
   "metadata": {},
   "outputs": [],
   "source": [
    "def TT_to_tensor(factors): # error if dimension > 26\n",
    "    if (len(factors) > 26):\n",
    "        raise ValueError('error if dimension > 26')\n",
    "    mult_str = \"\"\n",
    "    counter = 0\n",
    "    for _ in range(len(factors) - 1):\n",
    "        mult_str = mult_str + chr(97 + counter) + chr(65 + counter) + \",\" + chr(65 + counter)\n",
    "        counter += 1\n",
    "    \n",
    "    mult_str += chr(97 + counter)\n",
    "\n",
    "    T = np.einsum(mult_str, *factors)\n",
    "    return T"
   ]
  },
  {
   "cell_type": "code",
   "execution_count": 9,
   "metadata": {},
   "outputs": [],
   "source": [
    "def F_norm(tensor):\n",
    "    return np.sum(tensor ** 2)\n",
    "\n",
    "def truncatedSVD(A, delta):\n",
    "    u, s, v = np.linalg.svd(A, full_matrices=False)\n",
    "    rank = (np.abs(s) >= delta).sum()\n",
    "    return u[:, :rank], s[:rank], v[:rank, :]\n",
    "\n",
    "def numel(tensor):\n",
    "    return tensor.size"
   ]
  },
  {
   "cell_type": "code",
   "execution_count": 10,
   "metadata": {},
   "outputs": [],
   "source": [
    "def TT_SVD(tensor, eps):\n",
    "    d = len(tensor.shape)\n",
    "    delta = eps / np.sqrt(d - 1) * F_norm(tensor)\n",
    "    Ctens = tensor.copy()\n",
    "    \n",
    "    rk = 1\n",
    "    r_prev = 1\n",
    "\n",
    "    G_list = []\n",
    "    for k in range(1, d):\n",
    "        Ctens = Ctens.reshape(\n",
    "            r_prev * tensor.shape[k - 1], \n",
    "            numel(Ctens) // (r_prev * tensor.shape[k - 1])\n",
    "        )\n",
    "        u, s, v = truncatedSVD(Ctens, delta)\n",
    "        rk = len(s)\n",
    "        if k > 1:\n",
    "            Gk = u.reshape(r_prev, tensor.shape[k - 1], rk)\n",
    "        else:\n",
    "            Gk = u.reshape(tensor.shape[k - 1], rk)\n",
    "        G_list.append(Gk)\n",
    "        r_prev = rk\n",
    "        Ctens =  np.diag(s) @ v\n",
    "    G_list.append(Ctens)\n",
    "    #G_list.append(Ctens.reshape(r_prev, Ctens.shape[1] // tensor.shape[-1], tensor.shape[-1]))\n",
    "    return G_list\n",
    "    "
   ]
  },
  {
   "cell_type": "code",
   "execution_count": 11,
   "metadata": {},
   "outputs": [],
   "source": [
    "def TT_sum(G1, G2):\n",
    "    G3 = []\n",
    "    G3.append(np.hstack((G1[0], G2[0])))\n",
    "\n",
    "    for i in range(1, len(G1) - 1):\n",
    "        G_next = np.zeros([G1[i].shape[0] + G2[i].shape[0], G1[i].shape[1], G1[i].shape[2] + G2[i].shape[2]])\n",
    "        G_next[:G1[i].shape[0], :, :G1[i].shape[2]] = G1[i]\n",
    "        G_next[G1[i].shape[0]:, :, G1[i].shape[2]:] = G2[i]\n",
    "        G3.append(G_next)\n",
    "\n",
    "    G3.append(np.vstack((G1[-1], G2[-1])))\n",
    "    return G3"
   ]
  },
  {
   "cell_type": "code",
   "execution_count": 12,
   "metadata": {},
   "outputs": [],
   "source": [
    "def TT_squeeze(G, eps=1e-15):\n",
    "    #QR ортогонализация\n",
    "\n",
    "    Q, R = np.linalg.qr(G[0])\n",
    "    G[0] = Q\n",
    "    for i in range(1, len(G) - 1):\n",
    "        G[i] = np.einsum(\"mk,krt->mrt\", R, G[i])\n",
    "        Q, R = np.linalg.qr(G[i].reshape(-1, G[i].shape[2]))\n",
    "        G[i] = Q.reshape(G[i].shape[0], G[i].shape[1], -1)\n",
    "\n",
    "    G[-1] = np.einsum(\"mk,kr->mr\", R, G[-1])\n",
    "\n",
    "    # SVD дожатиe\n",
    "    u, s, G[-1] = np.linalg.svd(G[-1], full_matrices=False)\n",
    "    singular_count = np.argwhere(np.cumsum(s[::-1] ** 2) / s[0] > eps)[0][0]\n",
    "    rank = s.size - singular_count\n",
    "    G[-1] = G[-1][:rank, :]\n",
    "    U = u[:, :rank] * s[np.newaxis, :rank]\n",
    "\n",
    "    for i in range(len(G) - 2, 0, -1):\n",
    "        G[i] = np.einsum(\"mrt,tk->mrk\", G[i], U)\n",
    "        n, right_rank = G[i].shape[1], G[i].shape[2]\n",
    "        G[i] = np.reshape(G[i], (-1, n * rank))\n",
    "        u, s, G[i] = np.linalg.svd(G[i])\n",
    "        singular_count = np.argwhere(np.cumsum(s[::-1] ** 2) / s[0] > eps)[0][0]\n",
    "        rank = s.size - singular_count\n",
    "        G[i] = G[i][:rank, :]\n",
    "        G[i] = np.reshape(G[i], (-1, n, right_rank))\n",
    "        U = u[:, :rank] * s[np.newaxis, :rank]\n",
    "\n",
    "    G[0] = G[0] @ U\n",
    "    return G"
   ]
  },
  {
   "cell_type": "markdown",
   "metadata": {},
   "source": [
    "Дожатие при сложении тензора с самим собой"
   ]
  },
  {
   "cell_type": "code",
   "execution_count": 13,
   "metadata": {},
   "outputs": [],
   "source": [
    "dimensions = [4, 5, 3, 7]\n",
    "ranks = [2, 3, 2]"
   ]
  },
  {
   "cell_type": "code",
   "execution_count": 14,
   "metadata": {},
   "outputs": [],
   "source": [
    "S1 = []\n",
    "S1.append(np.random.normal(size = (dimensions[0], ranks[0])))\n",
    "\n",
    "if (len(ranks) > 1):\n",
    "    for i in range(1, len(ranks)):\n",
    "        S1.append(np.random.normal(size = (ranks[i - 1], dimensions[i], ranks[i])))\n",
    "S1.append(np.random.normal(size = (ranks[-1], dimensions[-1])))"
   ]
  },
  {
   "cell_type": "code",
   "execution_count": 15,
   "metadata": {},
   "outputs": [
    {
     "name": "stdout",
     "output_type": "stream",
     "text": [
      "TT ranks after sum: ( 4 6 4 )\n",
      "TT ranks after TT-squeez: ( 2 3 2 )\n",
      "relative error in Frobenius:  6.840172394562053e-16\n"
     ]
    }
   ],
   "source": [
    "S2 = TT_sum(S1, S1)\n",
    "print (\"TT ranks after sum: (\", end = \" \")\n",
    "for i in range(len(S2) - 1):\n",
    "    print(S2[i].shape[-1], end = \" \")\n",
    "print(\")\")\n",
    "\n",
    "T1 = TT_to_tensor(S1)\n",
    "\n",
    "TT_optimal_sum = TT_squeeze(S2)\n",
    "\n",
    "print (\"TT ranks after TT-squeez: (\", end = \" \")\n",
    "for i in range(len(TT_optimal_sum) - 1):\n",
    "    print(TT_optimal_sum[i].shape[-1], end = \" \")\n",
    "print(\")\")\n",
    "\n",
    "\n",
    "T2 = TT_to_tensor(TT_optimal_sum)\n",
    "\n",
    "print(\"relative error in Frobenius: \", np.linalg.norm(2 * T1 - T2) / np.linalg.norm(2 * T1))"
   ]
  },
  {
   "cell_type": "markdown",
   "metadata": {},
   "source": [
    "Дожатие с матрицей Гильберта:    \n",
    "$\\frac{1}{i + j + k + l + s + 1}$"
   ]
  },
  {
   "cell_type": "code",
   "execution_count": 16,
   "metadata": {},
   "outputs": [],
   "source": [
    "def f(i, j, k, l, s):\n",
    "    return 1 / (i + j + k + l + s + 1)"
   ]
  },
  {
   "cell_type": "code",
   "execution_count": 17,
   "metadata": {},
   "outputs": [],
   "source": [
    "n = 16\n",
    "T1 = np.fromfunction(f, (n, n, n, n, n))"
   ]
  },
  {
   "cell_type": "code",
   "execution_count": 18,
   "metadata": {},
   "outputs": [
    {
     "name": "stdout",
     "output_type": "stream",
     "text": [
      "TT ranks after TT-SVD eps= 1e-4: ( 4 4 4 4 )\n",
      "TT ranks after TT-SVD eps= 1e-10: ( 9 10 10 9 )\n"
     ]
    }
   ],
   "source": [
    "TT_1 = TT_SVD(T1, eps=1e-4)\n",
    "\n",
    "print (\"TT ranks after TT-SVD eps= 1e-4: (\", end = \" \")\n",
    "for i in range(len(TT_1) - 1):\n",
    "    print(TT_1[i].shape[-1], end = \" \")\n",
    "print(\")\")\n",
    "\n",
    "TT_2 = TT_SVD(T1, eps=1e-10)\n",
    "\n",
    "print (\"TT ranks after TT-SVD eps= 1e-10: (\", end = \" \")\n",
    "for i in range(len(TT_2) - 1):\n",
    "    print(TT_2[i].shape[-1], end = \" \")\n",
    "print(\")\")"
   ]
  },
  {
   "cell_type": "code",
   "execution_count": 20,
   "metadata": {},
   "outputs": [
    {
     "name": "stdout",
     "output_type": "stream",
     "text": [
      "TT ranks after sum: ( 13 14 14 13 )\n",
      "TT ranks after TT-squeez: ( 6 7 7 6 )\n"
     ]
    }
   ],
   "source": [
    "TT_sum_bad_ranks = TT_sum(TT_1, TT_2)\n",
    "print (\"TT ranks after sum: (\", end = \" \")\n",
    "for i in range(len(TT_sum_bad_ranks) - 1):\n",
    "    print(TT_sum_bad_ranks[i].shape[-1], end = \" \")\n",
    "print(\")\")\n",
    "\n",
    "\n",
    "TT_optimal_sum = TT_squeeze(TT_sum_bad_ranks, eps = 1e-9)\n",
    "\n",
    "print (\"TT ranks after TT-squeez: (\", end = \" \")\n",
    "for i in range(len(TT_optimal_sum) - 1):\n",
    "    print(TT_optimal_sum[i].shape[-1], end = \" \")\n",
    "print(\")\")\n"
   ]
  },
  {
   "cell_type": "code",
   "execution_count": null,
   "metadata": {},
   "outputs": [],
   "source": []
  }
 ],
 "metadata": {
  "kernelspec": {
   "display_name": "Python 3",
   "language": "python",
   "name": "python3"
  },
  "language_info": {
   "codemirror_mode": {
    "name": "ipython",
    "version": 3
   },
   "file_extension": ".py",
   "mimetype": "text/x-python",
   "name": "python",
   "nbconvert_exporter": "python",
   "pygments_lexer": "ipython3",
   "version": "3.11.8"
  }
 },
 "nbformat": 4,
 "nbformat_minor": 2
}
