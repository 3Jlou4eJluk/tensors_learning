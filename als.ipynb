{
  "cells": [
    {
      "cell_type": "code",
      "execution_count": 2,
      "metadata": {
        "id": "7ws2owbNROWz"
      },
      "outputs": [],
      "source": [
        "import numpy as np\n",
        "from scipy import linalg\n"
      ]
    },
    {
      "cell_type": "code",
      "execution_count": 17,
      "metadata": {
        "id": "7NCMErtJRYGg"
      },
      "outputs": [],
      "source": [
        "def ALS(A, T, dimensions, rank):\n",
        "    d = len(dimensions)\n",
        "\n",
        "    for i in range(10000):\n",
        "        for j in range(0, d):\n",
        "            B = np.full((1, rank), fill_value=1)\n",
        "            C = np.full((rank, rank), fill_value=1)\n",
        "            for k in range(0, d):\n",
        "                if (k != j):\n",
        "                    C = np.multiply(C, A[k].T @ A[k])\n",
        "                    B = linalg.khatri_rao(B, A[k])\n",
        "\n",
        "            Y = B.T @ np.moveaxis(T, j, 0).reshape(T.shape[j], -1).T\n",
        "            A[j] = (linalg.pinv(C) @ Y).T\n",
        "\n",
        "    tensor_result = np.einsum('ir,jr,kr,wr', *A)\n",
        "    err = np.linalg.norm(tensor_result - T) / np.linalg.norm(T)\n",
        "    print(err)\n",
        "    return A, err"
      ]
    },
    {
      "cell_type": "code",
      "execution_count": 18,
      "metadata": {
        "id": "kwbNZWdkTG_Q"
      },
      "outputs": [],
      "source": [
        "dim = (10, 10, 10, 10)\n",
        "rank = (1, 2, 3, 4, 5, 6, 7, 8)\n",
        "N = 10\n",
        "true_tensor = np.zeros([N,N,N,N])\n",
        "for i in range(N):\n",
        "    for j in range(N):\n",
        "        for k in range(N):\n",
        "            for q in range(N):\n",
        "                true_tensor[i,j,k, q] = np.sin(2*i+3*j+4*k) + 2*q"
      ]
    },
    {
      "cell_type": "code",
      "execution_count": 19,
      "metadata": {
        "colab": {
          "base_uri": "https://localhost:8080/"
        },
        "id": "4OZ_oK2lTH22",
        "outputId": "6b96a7e2-b11e-430c-ac46-3fc089848d60"
      },
      "outputs": [
        {
          "name": "stdout",
          "output_type": "stream",
          "text": [
            "0.06590261316477249\n",
            "0.04873266284955727\n",
            "0.016376269936892073\n",
            "8.572565126861327e-14\n",
            "6.251935813823042e-08\n",
            "0.00014713000692650994\n",
            "0.00017828002522885238\n",
            "2.324967921031663e-05\n"
          ]
        }
      ],
      "source": [
        "for j in rank:\n",
        "  A = [np.random.normal(size=(i, j)) for i in dim]\n",
        "  A, err = ALS(A, true_tensor, dim, j)\n"
      ]
    }
  ],
  "metadata": {
    "colab": {
      "provenance": []
    },
    "kernelspec": {
      "display_name": "Python 3",
      "name": "python3"
    },
    "language_info": {
      "name": "python"
    }
  },
  "nbformat": 4,
  "nbformat_minor": 0
}
