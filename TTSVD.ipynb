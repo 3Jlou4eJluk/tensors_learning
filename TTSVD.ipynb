{
 "cells": [
  {
   "cell_type": "code",
   "execution_count": 2,
   "metadata": {},
   "outputs": [],
   "source": [
    "import numpy as np\n",
    "import einops"
   ]
  },
  {
   "cell_type": "code",
   "execution_count": 3,
   "metadata": {},
   "outputs": [],
   "source": [
    "def F_norm(tensor):\n",
    "    return np.sum(tensor ** 2)\n",
    "\n",
    "def truncatedSVD(A, delta):\n",
    "    u, s, v = np.linalg.svd(A)\n",
    "    rank = (np.abs(s) >= delta).sum()\n",
    "    return u[:, :rank], s[:rank], v[:rank, :]\n",
    "\n",
    "def numel(tensor):\n",
    "    return tensor.size"
   ]
  },
  {
   "cell_type": "code",
   "execution_count": 24,
   "metadata": {},
   "outputs": [],
   "source": [
    "def TTsvd(tensor, eps):\n",
    "    d = len(tensor.shape)\n",
    "    delta = eps / np.sqrt(d - 1) * F_norm(tensor)\n",
    "    Ctens = tensor.copy()\n",
    "    \n",
    "    rk = 1\n",
    "    r_prev = 1\n",
    "\n",
    "    G_list = []\n",
    "    for k in range(1, d):\n",
    "        Ctens = Ctens.reshape(r_prev * tensor.shape[k - 1], numel(Ctens) // (r_prev * tensor.shape[k - 1]))\n",
    "        print(\"Current shape is \", Ctens.shape)\n",
    "        u, s, v = truncatedSVD(Ctens, delta)\n",
    "        print(rk.shape)\n",
    "        rk = len(s)\n",
    "        if k > 1:\n",
    "            Gk = u.reshape(r_prev, tensor.shape[k - 1], rk)\n",
    "        else:\n",
    "            Gk = u.reshape(tensor.shape[k - 1], rk)\n",
    "        G_list.append(Gk)\n",
    "        r_prev = rk\n",
    "        Ctens =  np.diag(s) @ v\n",
    "    G_list.append(Ctens)\n",
    "    #G_list.append(Ctens.reshape(r_prev, Ctens.shape[1] // tensor.shape[-1], tensor.shape[-1]))\n",
    "    return G_list\n",
    "    "
   ]
  },
  {
   "cell_type": "code",
   "execution_count": 25,
   "metadata": {},
   "outputs": [
    {
     "name": "stdout",
     "output_type": "stream",
     "text": [
      "(56, 56, 3)\n"
     ]
    }
   ],
   "source": [
    "from PIL import Image\n",
    "import numpy as np\n",
    "\n",
    "# Загружаем jpg картинку при помощи PIL\n",
    "image = Image.open('amanita.jpg')\n",
    "\n",
    "# Переводим картинку в массив numpy\n",
    "image_array = np.array(image)\n",
    "image_array = einops.reduce(image_array[1:, 1:, :].astype('float'), \"(h 4) (w 4) c -> h w c\", 'mean')\n",
    "\"\"\"[1:, 1:]\n",
    "image_array = (image_array - image_array.min()) / (image_array.max() - image_array.min())\n",
    "image_array = einops.reduce(image_array, \"(h 4) (w 4) c -> h w c\", 'mean')\"\"\"\n",
    "\n",
    "# Проверяем размерность массива\n",
    "print(image_array.shape)"
   ]
  },
  {
   "cell_type": "code",
   "execution_count": 26,
   "metadata": {},
   "outputs": [
    {
     "name": "stdout",
     "output_type": "stream",
     "text": [
      "Current shape is  (56, 168)\n",
      "Current shape is  (2856, 3)\n"
     ]
    }
   ],
   "source": [
    "tensor_train = TTsvd(image_array, 1e-8)"
   ]
  },
  {
   "cell_type": "code",
   "execution_count": 21,
   "metadata": {},
   "outputs": [
    {
     "name": "stdout",
     "output_type": "stream",
     "text": [
      "(56, 51)\n",
      "(51, 56, 3)\n",
      "(3, 3)\n"
     ]
    }
   ],
   "source": [
    "for t in tensor_train:\n",
    "    print(t.shape)"
   ]
  },
  {
   "cell_type": "code",
   "execution_count": 22,
   "metadata": {},
   "outputs": [],
   "source": [
    "rec = einops.einsum(tensor_train[0], tensor_train[1], tensor_train[2], \"i alpha, alpha j beta, beta k -> i j k\")"
   ]
  },
  {
   "cell_type": "code",
   "execution_count": 23,
   "metadata": {},
   "outputs": [
    {
     "data": {
      "text/plain": [
       "<matplotlib.image.AxesImage at 0x7fa114ce4190>"
      ]
     },
     "execution_count": 23,
     "metadata": {},
     "output_type": "execute_result"
    },
    {
     "data": {
      "image/png": "[encoded data removed]",
      "text/plain": [
       "<Figure size 640x480 with 1 Axes>"
      ]
     },
     "metadata": {},
     "output_type": "display_data"
    }
   ],
   "source": [
    "import matplotlib.pyplot as plt\n",
    "\n",
    "plt.imshow((rec - rec.min()) / (rec.max() - rec.min()))"
   ]
  },
  {
   "cell_type": "code",
   "execution_count": null,
   "metadata": {},
   "outputs": [],
   "source": []
  }
 ],
 "metadata": {
  "kernelspec": {
   "display_name": "venv",
   "language": "python",
   "name": "python3"
  },
  "language_info": {
   "codemirror_mode": {
    "name": "ipython",
    "version": 3
   },
   "file_extension": ".py",
   "mimetype": "text/x-python",
   "name": "python",
   "nbconvert_exporter": "python",
   "pygments_lexer": "ipython3",
   "version": "3.11.8"
  }
 },
 "nbformat": 4,
 "nbformat_minor": 2
}
